{
 "cells": [
  {
   "cell_type": "markdown",
   "id": "0240d535-25d3-416a-9c24-09de6c00d21f",
   "metadata": {},
   "source": [
    "Day 2 \n",
    "##Agenda\n",
    "Types, casting\n",
    "sequence types\n",
    "containers like mapping types, sets\n",
    "functions and scope\n",
    "classes\n",
    "types like int, long, short, float\n",
    "strings\n",
    "and sequence types\n"
   ]
  },
  {
   "cell_type": "code",
   "execution_count": 1,
   "id": "f4e08788-0bb1-47d1-ad17-724125584441",
   "metadata": {},
   "outputs": [
    {
     "name": "stdout",
     "output_type": "stream",
     "text": [
      "24\n"
     ]
    }
   ],
   "source": [
    "num = 24\n",
    "print(num)\n"
   ]
  },
  {
   "cell_type": "code",
   "execution_count": 2,
   "id": "722b7092-b09a-44dd-a09d-54383a1bae0f",
   "metadata": {},
   "outputs": [
    {
     "data": {
      "text/plain": [
       "'24 geckos'"
      ]
     },
     "execution_count": 2,
     "metadata": {},
     "output_type": "execute_result"
    }
   ],
   "source": [
    "str(num)+ ' geckos'"
   ]
  },
  {
   "cell_type": "code",
   "execution_count": 3,
   "id": "c704b969-3172-42e0-af61-36e48ca7d68b",
   "metadata": {},
   "outputs": [
    {
     "data": {
      "text/plain": [
       "'24 geckos'"
      ]
     },
     "execution_count": 3,
     "metadata": {},
     "output_type": "execute_result"
    }
   ],
   "source": [
    "f\"{num} geckos\""
   ]
  },
  {
   "cell_type": "markdown",
   "id": "56300b1f-e354-4e00-ae56-d9a99e765bce",
   "metadata": {},
   "source": [
    "# Sequence\n",
    "an ordered sequence of values\n",
    "some operations that are common across all sequence types:\n",
    "    indexing\n",
    "    slicing\n",
    "    concatenation, repetition\n",
    "    iteration\n",
    "    "
   ]
  },
  {
   "cell_type": "code",
   "execution_count": 5,
   "id": "e5e849fc-ec54-442e-97c7-33ee58315465",
   "metadata": {},
   "outputs": [
    {
     "data": {
      "text/plain": [
       "[0,\n",
       " 1,\n",
       " 2,\n",
       " 3,\n",
       " 4,\n",
       " 5,\n",
       " 6,\n",
       " 7,\n",
       " 8,\n",
       " 9,\n",
       " 10,\n",
       " 11,\n",
       " 12,\n",
       " 13,\n",
       " 14,\n",
       " 15,\n",
       " 16,\n",
       " 17,\n",
       " 18,\n",
       " 19,\n",
       " 20,\n",
       " 21,\n",
       " 22,\n",
       " 23,\n",
       " 24,\n",
       " 25,\n",
       " 26,\n",
       " 27,\n",
       " 28,\n",
       " 29,\n",
       " 30,\n",
       " 31,\n",
       " 32,\n",
       " 33,\n",
       " 34,\n",
       " 35,\n",
       " 36,\n",
       " 37,\n",
       " 38,\n",
       " 39,\n",
       " 40,\n",
       " 41,\n",
       " 42,\n",
       " 43,\n",
       " 44,\n",
       " 45,\n",
       " 46,\n",
       " 47,\n",
       " 48,\n",
       " 49,\n",
       " 50,\n",
       " 51,\n",
       " 52,\n",
       " 53,\n",
       " 54,\n",
       " 55,\n",
       " 56,\n",
       " 57,\n",
       " 58,\n",
       " 59,\n",
       " 60,\n",
       " 61,\n",
       " 62,\n",
       " 63,\n",
       " 64,\n",
       " 65,\n",
       " 66,\n",
       " 67,\n",
       " 68,\n",
       " 69,\n",
       " 70,\n",
       " 71,\n",
       " 72,\n",
       " 73,\n",
       " 74,\n",
       " 75,\n",
       " 76,\n",
       " 77,\n",
       " 78,\n",
       " 79,\n",
       " 80,\n",
       " 81,\n",
       " 82,\n",
       " 83,\n",
       " 84,\n",
       " 85,\n",
       " 86,\n",
       " 87,\n",
       " 88,\n",
       " 89,\n",
       " 90,\n",
       " 91,\n",
       " 92,\n",
       " 93,\n",
       " 94,\n",
       " 95,\n",
       " 96,\n",
       " 97,\n",
       " 98,\n",
       " 99]"
      ]
     },
     "execution_count": 5,
     "metadata": {},
     "output_type": "execute_result"
    }
   ],
   "source": [
    "big_range = range(100)\n",
    "list(big_range)"
   ]
  },
  {
   "cell_type": "code",
   "execution_count": 26,
   "id": "30294bb4-e7ff-474b-b5e7-41b726cec474",
   "metadata": {},
   "outputs": [
    {
     "name": "stdout",
     "output_type": "stream",
     "text": [
      "None\n"
     ]
    }
   ],
   "source": [
    "charts = {\"Juice WRLD\":6, \"Drake\": 1, \"Cardi B\": 3}\n",
    "print(charts.get(\"DNE\"))"
   ]
  },
  {
   "cell_type": "code",
   "execution_count": 8,
   "id": "06b3a4f2-bd60-46e2-9db4-b97b13a110a9",
   "metadata": {},
   "outputs": [
    {
     "name": "stdout",
     "output_type": "stream",
     "text": [
      "(0, 0)\n"
     ]
    }
   ],
   "source": [
    "origin = 0,0\n",
    "print(origin) #this is a tuple"
   ]
  },
  {
   "cell_type": "code",
   "execution_count": 10,
   "id": "eb120d89-ffa1-4f3d-bc26-8332f52ff163",
   "metadata": {},
   "outputs": [
    {
     "name": "stdout",
     "output_type": "stream",
     "text": [
      "{(1, 2): 'whatever'}\n"
     ]
    }
   ],
   "source": [
    "#with dictionaries, the keys need to be an immutable type\n",
    "d = {(1,2): 'whatever'}\n",
    "print(d)"
   ]
  },
  {
   "cell_type": "code",
   "execution_count": 11,
   "id": "2b3d83bc-2e72-41ec-87e6-066fb116e964",
   "metadata": {},
   "outputs": [],
   "source": [
    "dictionary = {\"Joe\":1}"
   ]
  },
  {
   "cell_type": "code",
   "execution_count": 12,
   "id": "7679b619-28aa-41c0-8ca6-6ffde3a20568",
   "metadata": {},
   "outputs": [
    {
     "data": {
      "text/plain": [
       "1"
      ]
     },
     "execution_count": 12,
     "metadata": {},
     "output_type": "execute_result"
    }
   ],
   "source": [
    "dictionary.get(\"Joe\")"
   ]
  },
  {
   "cell_type": "code",
   "execution_count": 13,
   "id": "bffb44af-03c4-4c98-8e1e-66fb7ba4967c",
   "metadata": {},
   "outputs": [
    {
     "name": "stdout",
     "output_type": "stream",
     "text": [
      "Joe 1\n"
     ]
    }
   ],
   "source": [
    "for k in dictionary:\n",
    "        print(k, dictionary[k])"
   ]
  },
  {
   "cell_type": "code",
   "execution_count": 17,
   "id": "1835b0fc-3c9d-45e8-a609-41970060345f",
   "metadata": {},
   "outputs": [],
   "source": [
    "def f(**kwargs): #key word arguments\n",
    "    print(kwargs)"
   ]
  },
  {
   "cell_type": "code",
   "execution_count": 16,
   "id": "6bb6fb89-5fc5-4a1c-bcd7-d54c0fe5a6e8",
   "metadata": {},
   "outputs": [
    {
     "name": "stdout",
     "output_type": "stream",
     "text": [
      "{'a': 1, 'b': 2}\n"
     ]
    }
   ],
   "source": [
    "f(a=1,b=2)"
   ]
  },
  {
   "cell_type": "code",
   "execution_count": 18,
   "id": "f6f47536-0ed5-44d5-8034-73adde9900a8",
   "metadata": {},
   "outputs": [],
   "source": [
    "def ff(a,b,*args, **kwargs):\n",
    "        print(a,b,args,kwargs)"
   ]
  },
  {
   "cell_type": "code",
   "execution_count": 20,
   "id": "65c425c1-0941-4a96-8059-89211832876f",
   "metadata": {},
   "outputs": [
    {
     "name": "stdout",
     "output_type": "stream",
     "text": [
      "1 2 (3, 4, 5) {'foo': 'bar'}\n"
     ]
    }
   ],
   "source": [
    "ff(1,2,3,4,5,foo='bar')"
   ]
  },
  {
   "cell_type": "code",
   "execution_count": 21,
   "id": "ff0ca8cd-5372-46dc-8958-49d3ecef0071",
   "metadata": {},
   "outputs": [
    {
     "name": "stdout",
     "output_type": "stream",
     "text": [
      "[-100, 0, 3, 12]\n"
     ]
    }
   ],
   "source": [
    "nums = [-100,0,3,12]\n",
    "print(nums)"
   ]
  },
  {
   "cell_type": "code",
   "execution_count": 23,
   "id": "9504dd56-8ac8-4f1c-8b3e-a1c33faa6e3e",
   "metadata": {},
   "outputs": [
    {
     "data": {
      "text/plain": [
       "-100"
      ]
     },
     "execution_count": 23,
     "metadata": {},
     "output_type": "execute_result"
    }
   ],
   "source": [
    "max(nums,key=abs) #maximum absolute value"
   ]
  },
  {
   "cell_type": "code",
   "execution_count": 24,
   "id": "45c85d13-0e9f-4ffd-8eb4-90a3c29563c2",
   "metadata": {},
   "outputs": [
    {
     "data": {
      "text/plain": [
       "-100"
      ]
     },
     "execution_count": 24,
     "metadata": {},
     "output_type": "execute_result"
    }
   ],
   "source": [
    "max(nums, key=lambda x:-x)"
   ]
  },
  {
   "cell_type": "code",
   "execution_count": 30,
   "id": "d237cf71-fbdf-46e8-a1d6-0d88c1263f7d",
   "metadata": {},
   "outputs": [],
   "source": [
    "# create a class\n",
    "class Cat:\n",
    "    def __init__(self, name, lives):\n",
    "        self.name= name\n",
    "        self.lives = lives\n",
    "    def meow(self, thing):\n",
    "        return f'{self.name} meows at {thing}'\n",
    "    "
   ]
  },
  {
   "cell_type": "code",
   "execution_count": 31,
   "id": "7241f4a5-cc51-4e01-92dc-975d5919011b",
   "metadata": {},
   "outputs": [],
   "source": [
    "c = Cat('paw newman', 9)"
   ]
  },
  {
   "cell_type": "code",
   "execution_count": 32,
   "id": "7b76e24d-b366-487c-b56b-fb99e6b989b2",
   "metadata": {},
   "outputs": [
    {
     "data": {
      "text/plain": [
       "'paw newman meows at milk'"
      ]
     },
     "execution_count": 32,
     "metadata": {},
     "output_type": "execute_result"
    }
   ],
   "source": [
    "c.meow('milk')"
   ]
  },
  {
   "cell_type": "code",
   "execution_count": 1,
   "id": "4912bb53-43ae-43ce-8bd7-251c01b753a5",
   "metadata": {},
   "outputs": [],
   "source": [
    "# the @static method means that you can call it both on ... \n",
    "# the class itself and each instance of the class\n"
   ]
  },
  {
   "cell_type": "code",
   "execution_count": 2,
   "id": "613821e7-6cfd-48b3-9fc2-d2f1ffe222d6",
   "metadata": {},
   "outputs": [
    {
     "name": "stdout",
     "output_type": "stream",
     "text": [
      "4\n",
      "5\n"
     ]
    }
   ],
   "source": [
    "t = (4,5)\n",
    "x, y = t\n",
    "print(x)\n",
    "print(y)"
   ]
  },
  {
   "cell_type": "code",
   "execution_count": 3,
   "id": "55977e29-4ba6-4c55-945d-59b5a8965a9d",
   "metadata": {},
   "outputs": [
    {
     "ename": "AttributeError",
     "evalue": "'list' object has no attribute 'contains'",
     "output_type": "error",
     "traceback": [
      "\u001b[0;31m---------------------------------------------------------------------------\u001b[0m",
      "\u001b[0;31mAttributeError\u001b[0m                            Traceback (most recent call last)",
      "\u001b[0;32m/var/folders/x5/lqdh39fn28d3vv684yzp6l5w0000gp/T/ipykernel_80613/318426306.py\u001b[0m in \u001b[0;36m<module>\u001b[0;34m\u001b[0m\n\u001b[1;32m      1\u001b[0m \u001b[0mnewList\u001b[0m \u001b[0;34m=\u001b[0m \u001b[0;34m[\u001b[0m\u001b[0;34m\"broccoli\"\u001b[0m\u001b[0;34m,\u001b[0m \u001b[0;34m\"corn\"\u001b[0m\u001b[0;34m,\u001b[0m \u001b[0;34m\"cauliflower\"\u001b[0m\u001b[0;34m]\u001b[0m\u001b[0;34m\u001b[0m\u001b[0;34m\u001b[0m\u001b[0m\n\u001b[0;32m----> 2\u001b[0;31m \u001b[0mprint\u001b[0m\u001b[0;34m(\u001b[0m\u001b[0mnewList\u001b[0m\u001b[0;34m.\u001b[0m\u001b[0mcontains\u001b[0m\u001b[0;34m(\u001b[0m\u001b[0;34m\"corn\"\u001b[0m\u001b[0;34m)\u001b[0m\u001b[0;34m)\u001b[0m\u001b[0;34m\u001b[0m\u001b[0;34m\u001b[0m\u001b[0m\n\u001b[0m",
      "\u001b[0;31mAttributeError\u001b[0m: 'list' object has no attribute 'contains'"
     ]
    }
   ],
   "source": [
    "newList = [\"broccoli\", \"corn\", \"cauliflower\"]\n",
    "print(newList.contains(\"corn\"))"
   ]
  },
  {
   "cell_type": "code",
   "execution_count": 5,
   "id": "d0efbcc5-285e-4f03-a1d4-487c0a92b8f4",
   "metadata": {},
   "outputs": [
    {
     "name": "stdout",
     "output_type": "stream",
     "text": [
      "668\n"
     ]
    }
   ],
   "source": [
    "s = ''\n",
    "for i, val in enumerate(['walrus', 'whale', 'wombat']):\n",
    "    s += str(i + len(val))\n",
    "print(s)"
   ]
  },
  {
   "cell_type": "code",
   "execution_count": 12,
   "id": "ad5a991e-ce97-40d6-a704-beea73f6331b",
   "metadata": {},
   "outputs": [
    {
     "name": "stdout",
     "output_type": "stream",
     "text": [
      "ringo starfish\n",
      "kendrick llama\n",
      "justin beaver\n"
     ]
    }
   ],
   "source": [
    "names = ['ringo', 'kendrick', 'justin']                          \n",
    "animals = ['starfish', 'llama', 'beaver']                        \n",
    "                                                                   \n",
    "together = zip(names, animals) # built-in function                                  \n",
    "for name, animal in together:                                            \n",
    "    print(name + ' ' + animal)"
   ]
  },
  {
   "cell_type": "code",
   "execution_count": 15,
   "id": "df82ef8f-6ed7-4cf9-927f-d24667ec0aee",
   "metadata": {},
   "outputs": [],
   "source": [
    "def f(a, *args):\n",
    "    print(type(args))\n"
   ]
  },
  {
   "cell_type": "code",
   "execution_count": 17,
   "id": "9b8d2b07-97b5-40bc-b994-fe266c71761d",
   "metadata": {},
   "outputs": [
    {
     "name": "stdout",
     "output_type": "stream",
     "text": [
      "['Mabel', 'Stan', 'Dipper']\n"
     ]
    }
   ],
   "source": [
    "names = ['Dipper', 'Mabel', 'Stan']\n",
    "\n",
    "def last_letter(s):\n",
    "      return s[-1]\n",
    "names.sort(key=last_letter) # keyword argument for sort\n",
    "print(names)"
   ]
  },
  {
   "cell_type": "code",
   "execution_count": 19,
   "id": "64097b93-618a-4fbc-acec-d90aa1534393",
   "metadata": {},
   "outputs": [
    {
     "name": "stdout",
     "output_type": "stream",
     "text": [
      "27\n"
     ]
    }
   ],
   "source": [
    "exp = lambda x: x ** 3\n",
    "#print(exp())\n",
    "print(exp(3))"
   ]
  },
  {
   "cell_type": "code",
   "execution_count": 20,
   "id": "a654be7f-355b-4547-9421-7b0fcdefb416",
   "metadata": {},
   "outputs": [
    {
     "name": "stdout",
     "output_type": "stream",
     "text": [
      "t?a?c?\n"
     ]
    }
   ],
   "source": [
    "def f(my_str):\n",
    "    length = len(my_str)\n",
    "    for i in range(length - 1,-1,-1):\n",
    "        yield my_str[i]\n",
    "result = ''\n",
    "for ch in f('cat'):\n",
    "    result += ch + '?'\n",
    "print(result)"
   ]
  },
  {
   "cell_type": "code",
   "execution_count": 21,
   "id": "923c22ca-b9f1-4ee2-882e-64da6c9941a0",
   "metadata": {},
   "outputs": [
    {
     "name": "stdout",
     "output_type": "stream",
     "text": [
      "4\n",
      "5\n"
     ]
    }
   ],
   "source": [
    "def foozy():\n",
    "    return (4,5) # give back two values\n",
    "x, y = foozy()\n",
    "print(x) \n",
    "print(y)"
   ]
  },
  {
   "cell_type": "code",
   "execution_count": 22,
   "id": "710525e3-d57b-474e-9cd9-f5990f36cfd1",
   "metadata": {},
   "outputs": [
    {
     "name": "stdout",
     "output_type": "stream",
     "text": [
      "['walrus', 'wombat']\n",
      "['walrus', 'wombat']\n"
     ]
    }
   ],
   "source": [
    "animals = ['walrus', 'whale', 'wombat']\n",
    "def enigma(some_list):\n",
    "      some_list.remove('whale')\n",
    "      print(some_list)\n",
    "enigma(animals)\n",
    "print(animals)"
   ]
  },
  {
   "cell_type": "code",
   "execution_count": 25,
   "id": "4d284991-0779-4aa7-90b3-aff425b4e0b0",
   "metadata": {},
   "outputs": [
    {
     "ename": "UnboundLocalError",
     "evalue": "local variable 'num' referenced before assignment",
     "output_type": "error",
     "traceback": [
      "\u001b[0;31m---------------------------------------------------------------------------\u001b[0m",
      "\u001b[0;31mUnboundLocalError\u001b[0m                         Traceback (most recent call last)",
      "\u001b[0;32m/var/folders/x5/lqdh39fn28d3vv684yzp6l5w0000gp/T/ipykernel_80613/2908825969.py\u001b[0m in \u001b[0;36m<module>\u001b[0;34m\u001b[0m\n\u001b[1;32m      4\u001b[0m     \u001b[0mprint\u001b[0m\u001b[0;34m(\u001b[0m\u001b[0mnum\u001b[0m\u001b[0;34m)\u001b[0m    \u001b[0;31m# line 4\u001b[0m\u001b[0;34m\u001b[0m\u001b[0;34m\u001b[0m\u001b[0m\n\u001b[1;32m      5\u001b[0m \u001b[0;34m\u001b[0m\u001b[0m\n\u001b[0;32m----> 6\u001b[0;31m \u001b[0ma_function\u001b[0m\u001b[0;34m(\u001b[0m\u001b[0;34m)\u001b[0m\u001b[0;34m\u001b[0m\u001b[0;34m\u001b[0m\u001b[0m\n\u001b[0m\u001b[1;32m      7\u001b[0m \u001b[0mprint\u001b[0m\u001b[0;34m(\u001b[0m\u001b[0mnum\u001b[0m\u001b[0;34m)\u001b[0m        \u001b[0;31m# line 6\u001b[0m\u001b[0;34m\u001b[0m\u001b[0;34m\u001b[0m\u001b[0m\n",
      "\u001b[0;32m/var/folders/x5/lqdh39fn28d3vv684yzp6l5w0000gp/T/ipykernel_80613/2908825969.py\u001b[0m in \u001b[0;36ma_function\u001b[0;34m()\u001b[0m\n\u001b[1;32m      1\u001b[0m \u001b[0mnum\u001b[0m \u001b[0;34m=\u001b[0m \u001b[0;36m3\u001b[0m\u001b[0;34m\u001b[0m\u001b[0;34m\u001b[0m\u001b[0m\n\u001b[1;32m      2\u001b[0m \u001b[0;32mdef\u001b[0m \u001b[0ma_function\u001b[0m\u001b[0;34m(\u001b[0m\u001b[0;34m)\u001b[0m\u001b[0;34m:\u001b[0m\u001b[0;34m\u001b[0m\u001b[0;34m\u001b[0m\u001b[0m\n\u001b[0;32m----> 3\u001b[0;31m     \u001b[0mnum\u001b[0m \u001b[0;34m=\u001b[0m \u001b[0mnum\u001b[0m \u001b[0;34m+\u001b[0m \u001b[0;36m8\u001b[0m\u001b[0;34m\u001b[0m\u001b[0;34m\u001b[0m\u001b[0m\n\u001b[0m\u001b[1;32m      4\u001b[0m     \u001b[0mprint\u001b[0m\u001b[0;34m(\u001b[0m\u001b[0mnum\u001b[0m\u001b[0;34m)\u001b[0m    \u001b[0;31m# line 4\u001b[0m\u001b[0;34m\u001b[0m\u001b[0;34m\u001b[0m\u001b[0m\n\u001b[1;32m      5\u001b[0m \u001b[0;34m\u001b[0m\u001b[0m\n",
      "\u001b[0;31mUnboundLocalError\u001b[0m: local variable 'num' referenced before assignment"
     ]
    }
   ],
   "source": [
    "num = 3\n",
    "def a_function():\n",
    "    num = num + 8\n",
    "    print(num)    # line 4\n",
    "\n",
    "a_function()\n",
    "print(num)        # line 6"
   ]
  },
  {
   "cell_type": "code",
   "execution_count": 26,
   "id": "7213b450-f491-4b32-b53e-ffbba5340fc9",
   "metadata": {},
   "outputs": [
    {
     "name": "stdout",
     "output_type": "stream",
     "text": [
      "68\n"
     ]
    }
   ],
   "source": [
    "def f(t):\n",
    "    def g(x):\n",
    "        return 9 * x // 5 + 32\n",
    "    result = g(t) \n",
    "    return result\n",
    "print(f(20))   # line 6"
   ]
  },
  {
   "cell_type": "code",
   "execution_count": 28,
   "id": "ac69aeee-0b7e-4c22-b7b7-efcc387ed603",
   "metadata": {},
   "outputs": [
    {
     "name": "stdout",
     "output_type": "stream",
     "text": [
      "['1', '22', '333']\n"
     ]
    }
   ],
   "source": [
    "def mystery(val):\n",
    "    return str(val) * val\n",
    "\n",
    "def mapped_range(start, end, f):\n",
    "    return [f(val) for val in range(start, end)]\n",
    "result = mapped_range(1, 4, mystery)\n",
    "print(result)"
   ]
  },
  {
   "cell_type": "code",
   "execution_count": 29,
   "id": "6d6566ba-a973-4de3-becf-a3b12f004cbd",
   "metadata": {},
   "outputs": [
    {
     "ename": "ValueError",
     "evalue": "invalid literal for int() with base 10: 'five'",
     "output_type": "error",
     "traceback": [
      "\u001b[0;31m---------------------------------------------------------------------------\u001b[0m",
      "\u001b[0;31mValueError\u001b[0m                                Traceback (most recent call last)",
      "\u001b[0;32m/var/folders/x5/lqdh39fn28d3vv684yzp6l5w0000gp/T/ipykernel_80613/3340318689.py\u001b[0m in \u001b[0;36m<module>\u001b[0;34m\u001b[0m\n\u001b[0;32m----> 1\u001b[0;31m \u001b[0mint\u001b[0m\u001b[0;34m(\u001b[0m\u001b[0;34m\"five\"\u001b[0m\u001b[0;34m)\u001b[0m\u001b[0;34m\u001b[0m\u001b[0;34m\u001b[0m\u001b[0m\n\u001b[0m",
      "\u001b[0;31mValueError\u001b[0m: invalid literal for int() with base 10: 'five'"
     ]
    }
   ],
   "source": [
    "int(\"five\")"
   ]
  },
  {
   "cell_type": "code",
   "execution_count": 30,
   "id": "af48b751-e0a1-43f7-8aa7-b70f31ef3dd7",
   "metadata": {},
   "outputs": [
    {
     "name": "stdout",
     "output_type": "stream",
     "text": [
      "None\n"
     ]
    }
   ],
   "source": [
    "def f(s):\n",
    "       s += '!'\n",
    "print(f('hello'))"
   ]
  },
  {
   "cell_type": "code",
   "execution_count": null,
   "id": "ab79792c-c896-4a5d-a560-a9842ec49b23",
   "metadata": {},
   "outputs": [],
   "source": []
  }
 ],
 "metadata": {
  "kernelspec": {
   "display_name": "Python 3 (ipykernel)",
   "language": "python",
   "name": "python3"
  },
  "language_info": {
   "codemirror_mode": {
    "name": "ipython",
    "version": 3
   },
   "file_extension": ".py",
   "mimetype": "text/x-python",
   "name": "python",
   "nbconvert_exporter": "python",
   "pygments_lexer": "ipython3",
   "version": "3.9.13"
  }
 },
 "nbformat": 4,
 "nbformat_minor": 5
}
