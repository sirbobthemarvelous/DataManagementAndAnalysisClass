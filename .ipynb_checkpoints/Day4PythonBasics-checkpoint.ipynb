{
 "cells": [
  {
   "cell_type": "code",
   "execution_count": 1,
   "id": "17c53b1c-88b4-4e64-8ade-c73cfa9ebb19",
   "metadata": {},
   "outputs": [],
   "source": [
    "def make_adder(base_number):\n",
    "    #base number will be used by inner function\n",
    "    def new_function(n):\n",
    "        return base_number + n\n",
    "    \n",
    "    return new_function\n"
   ]
  },
  {
   "cell_type": "code",
   "execution_count": 2,
   "id": "da0fdbf1-4954-4662-9c81-336c1cf0bb75",
   "metadata": {},
   "outputs": [],
   "source": [
    "f = make_adder(10)"
   ]
  },
  {
   "cell_type": "code",
   "execution_count": 3,
   "id": "c6d73c3d-5d4a-4d6e-9d7a-40c0cbfd9675",
   "metadata": {},
   "outputs": [
    {
     "data": {
      "text/plain": [
       "function"
      ]
     },
     "execution_count": 3,
     "metadata": {},
     "output_type": "execute_result"
    }
   ],
   "source": [
    "type(f)"
   ]
  },
  {
   "cell_type": "code",
   "execution_count": 9,
   "id": "91244010-9645-4b88-88b7-53cb59d28cdb",
   "metadata": {},
   "outputs": [],
   "source": [
    "def fact(n):\n",
    "    result = 1\n",
    "    while(n>1):\n",
    "        result *= n\n",
    "        n -= 1\n",
    "    return result"
   ]
  },
  {
   "cell_type": "code",
   "execution_count": 10,
   "id": "a84b41a3-bec0-4390-8885-8c5f968e4072",
   "metadata": {},
   "outputs": [],
   "source": [
    "#some functions takes old function, return new fversion of it with added functionality\n",
    "#in python you can apply a decorator without a function call using @decorator\n"
   ]
  },
  {
   "cell_type": "code",
   "execution_count": 13,
   "id": "84030e44-2e60-4ff3-8e01-eae226727707",
   "metadata": {},
   "outputs": [],
   "source": [
    "def cachify(old_fn):\n",
    "    cache = {}\n",
    "    def new_fn(n):\n",
    "        k = str(n)\n",
    "        print(\"in new_fn\", cache)\n",
    "        if k in cache:\n",
    "            print('cache hit', cache)\n",
    "            return cache[k]\n",
    "        else:\n",
    "            print('cache miss ...adding new value')\n",
    "            ret = old_fn(n)\n",
    "            cache[k] = ret\n",
    "            return ret\n",
    "    return new_fn"
   ]
  },
  {
   "cell_type": "code",
   "execution_count": 14,
   "id": "5bdd7e80-f197-41e4-be11-aace80b7ef90",
   "metadata": {},
   "outputs": [
    {
     "name": "stdout",
     "output_type": "stream",
     "text": [
      "in new_fn {}\n",
      "cache miss ...adding new value\n",
      "in new_fn {'3': 6}\n",
      "cache hit {'3': 6}\n"
     ]
    },
    {
     "data": {
      "text/plain": [
       "6"
      ]
     },
     "execution_count": 14,
     "metadata": {},
     "output_type": "execute_result"
    }
   ],
   "source": [
    "cached_fact = cachify(fact)\n",
    "cached_fact(3)\n",
    "cached_fact(3)"
   ]
  },
  {
   "cell_type": "code",
   "execution_count": 15,
   "id": "82617bfc-f4fb-4702-9261-ddf4260b8287",
   "metadata": {},
   "outputs": [],
   "source": [
    "import json\n",
    "def cachify2(old_fn):\n",
    "    cache = {}\n",
    "    def new_fn(*args):\n",
    "        k = json.dumps(args)\n",
    "        print(\"in new_fn\", cache)\n",
    "        if k in cache:\n",
    "            print('cache hit', cache)\n",
    "            return cache[k]\n",
    "        else:\n",
    "            print('cache miss ...adding new value')\n",
    "            ret = old_fn(n)\n",
    "            cache[k] = ret\n",
    "            return ret\n",
    "    return new_fn"
   ]
  },
  {
   "cell_type": "code",
   "execution_count": null,
   "id": "5e73572d-cec9-4afc-b1c9-629eb68ed25c",
   "metadata": {},
   "outputs": [],
   "source": []
  }
 ],
 "metadata": {
  "kernelspec": {
   "display_name": "Python 3 (ipykernel)",
   "language": "python",
   "name": "python3"
  },
  "language_info": {
   "codemirror_mode": {
    "name": "ipython",
    "version": 3
   },
   "file_extension": ".py",
   "mimetype": "text/x-python",
   "name": "python",
   "nbconvert_exporter": "python",
   "pygments_lexer": "ipython3",
   "version": "3.9.13"
  }
 },
 "nbformat": 4,
 "nbformat_minor": 5
}
