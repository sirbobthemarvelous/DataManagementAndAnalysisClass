{
 "cells": [
  {
   "cell_type": "code",
   "execution_count": 1,
   "id": "db4fb57f-4139-4be0-ac42-1e09aeae01df",
   "metadata": {},
   "outputs": [
    {
     "data": {
      "text/plain": [
       "\"\\ns = Student(;jjv222','first',88)\\nprint(s) # jjv222 - joe\\ns.midterm_pct() # 88%\\n\""
      ]
     },
     "execution_count": 1,
     "metadata": {},
     "output_type": "execute_result"
    }
   ],
   "source": [
    "'''\n",
    "s = Student(;jjv222','first',88)\n",
    "print(s) # jjv222 - joe\n",
    "s.midterm_pct() # 88%\n",
    "'''"
   ]
  },
  {
   "cell_type": "code",
   "execution_count": 26,
   "id": "20cd0ae0-a6f8-4aeb-9cf4-87d6f98d3b98",
   "metadata": {},
   "outputs": [],
   "source": [
    "class Student:\n",
    "    def __init__(self, netid,first,midterm):\n",
    "        self.netid = netid\n",
    "        self.first = first\n",
    "        self.midterm = midterm\n",
    "        #self represents newly created instance\n",
    "        \n",
    "    def __str__(self):\n",
    "        return f'{self.netid} = {self.first}'\n",
    "    \n",
    "    def __eq__(self,other):\n",
    "        return self.netid == other.netid\n",
    "    \n",
    "    def midterm_pct(self):\n",
    "        return f'{self.midterm}%'\n",
    "    \n",
    "    "
   ]
  },
  {
   "cell_type": "code",
   "execution_count": 27,
   "id": "979dd9f2-91f3-47ac-9681-f9f36d22dc04",
   "metadata": {},
   "outputs": [
    {
     "name": "stdout",
     "output_type": "stream",
     "text": [
      "jjv222 = joe\n"
     ]
    }
   ],
   "source": [
    "s = Student('jjv222','joe',88)\n",
    "print(s)"
   ]
  },
  {
   "cell_type": "code",
   "execution_count": 28,
   "id": "f0c2e689-e0be-49ec-ad9a-d98c901de550",
   "metadata": {},
   "outputs": [
    {
     "name": "stdout",
     "output_type": "stream",
     "text": [
      "jjv222 = joe\n"
     ]
    }
   ],
   "source": [
    "s2 = Student('jjv222','joe',88)\n",
    "print(s2)"
   ]
  },
  {
   "cell_type": "code",
   "execution_count": 29,
   "id": "3f888f66-aa9d-4142-948c-887f68e25e41",
   "metadata": {},
   "outputs": [
    {
     "data": {
      "text/plain": [
       "True"
      ]
     },
     "execution_count": 29,
     "metadata": {},
     "output_type": "execute_result"
    }
   ],
   "source": [
    "s == s2"
   ]
  },
  {
   "cell_type": "code",
   "execution_count": 30,
   "id": "33f56cd5-4cf9-4218-bfd1-410b2a331faa",
   "metadata": {},
   "outputs": [
    {
     "data": {
      "text/plain": [
       "'88%'"
      ]
     },
     "execution_count": 30,
     "metadata": {},
     "output_type": "execute_result"
    }
   ],
   "source": [
    "s.midterm_pct()"
   ]
  },
  {
   "cell_type": "code",
   "execution_count": 32,
   "id": "253ca4e0-2c89-4765-934d-66c115ce1f23",
   "metadata": {},
   "outputs": [
    {
     "ename": "NameError",
     "evalue": "name '__main__' is not defined",
     "output_type": "error",
     "traceback": [
      "\u001b[0;31m---------------------------------------------------------------------------\u001b[0m",
      "\u001b[0;31mNameError\u001b[0m                                 Traceback (most recent call last)",
      "\u001b[0;32m/var/folders/x5/lqdh39fn28d3vv684yzp6l5w0000gp/T/ipykernel_9820/2576033923.py\u001b[0m in \u001b[0;36m<module>\u001b[0;34m\u001b[0m\n\u001b[1;32m      3\u001b[0m \u001b[0;31m#d = {'netid': 'jjv222' ...}\u001b[0m\u001b[0;34m\u001b[0m\u001b[0;34m\u001b[0m\u001b[0m\n\u001b[1;32m      4\u001b[0m \u001b[0;34m\u001b[0m\u001b[0m\n\u001b[0;32m----> 5\u001b[0;31m \u001b[0m__main__\u001b[0m\u001b[0;34m.\u001b[0m\u001b[0mStudent\u001b[0m\u001b[0;34m\u001b[0m\u001b[0;34m\u001b[0m\u001b[0m\n\u001b[0m\u001b[1;32m      6\u001b[0m \u001b[0;32mfrom\u001b[0m \u001b[0mcollections\u001b[0m \u001b[0;32mimport\u001b[0m \u001b[0mnamedtuple\u001b[0m\u001b[0;34m\u001b[0m\u001b[0;34m\u001b[0m\u001b[0m\n\u001b[1;32m      7\u001b[0m \u001b[0mStudentTup\u001b[0m \u001b[0;34m=\u001b[0m \u001b[0mnamedtuple\u001b[0m\u001b[0;34m(\u001b[0m\u001b[0;34m'StudentTup'\u001b[0m\u001b[0;34m,\u001b[0m \u001b[0;34m[\u001b[0m\u001b[0;34m'netid'\u001b[0m\u001b[0;34m,\u001b[0m\u001b[0;34m'first'\u001b[0m\u001b[0;34m]\u001b[0m\u001b[0;34m)\u001b[0m\u001b[0;34m\u001b[0m\u001b[0;34m\u001b[0m\u001b[0m\n",
      "\u001b[0;31mNameError\u001b[0m: name '__main__' is not defined"
     ]
    }
   ],
   "source": [
    "#dictionaries can work but are cumbersome, no custom methods\n",
    "#dictionary good for data store\n",
    "#d = {'netid': 'jjv222' ...}\n",
    "\n",
    "__main__.Student\n",
    "from collections import namedtuple\n",
    "StudentTup = namedtuple('StudentTup', ['netid','first'])"
   ]
  },
  {
   "cell_type": "code",
   "execution_count": 33,
   "id": "581be0c0-e84c-4fc9-b7e9-413b18b75463",
   "metadata": {},
   "outputs": [
    {
     "ename": "NameError",
     "evalue": "name 'StudentTup' is not defined",
     "output_type": "error",
     "traceback": [
      "\u001b[0;31m---------------------------------------------------------------------------\u001b[0m",
      "\u001b[0;31mNameError\u001b[0m                                 Traceback (most recent call last)",
      "\u001b[0;32m/var/folders/x5/lqdh39fn28d3vv684yzp6l5w0000gp/T/ipykernel_9820/2363933322.py\u001b[0m in \u001b[0;36m<module>\u001b[0;34m\u001b[0m\n\u001b[0;32m----> 1\u001b[0;31m \u001b[0mst\u001b[0m \u001b[0;34m=\u001b[0m \u001b[0mStudentTup\u001b[0m\u001b[0;34m(\u001b[0m\u001b[0;34m'jjv222'\u001b[0m\u001b[0;34m,\u001b[0m\u001b[0mfirst\u001b[0m\u001b[0;34m=\u001b[0m\u001b[0;34m'joe'\u001b[0m\u001b[0;34m)\u001b[0m\u001b[0;34m\u001b[0m\u001b[0;34m\u001b[0m\u001b[0m\n\u001b[0m\u001b[1;32m      2\u001b[0m \u001b[0mst\u001b[0m\u001b[0;34m.\u001b[0m\u001b[0mnetid\u001b[0m\u001b[0;34m\u001b[0m\u001b[0;34m\u001b[0m\u001b[0m\n\u001b[1;32m      3\u001b[0m \u001b[0mst\u001b[0m\u001b[0;34m.\u001b[0m\u001b[0mfirst\u001b[0m\u001b[0;34m\u001b[0m\u001b[0;34m\u001b[0m\u001b[0m\n\u001b[1;32m      4\u001b[0m \u001b[0mst\u001b[0m\u001b[0;34m[\u001b[0m\u001b[0;36m0\u001b[0m\u001b[0;34m]\u001b[0m\u001b[0;34m\u001b[0m\u001b[0;34m\u001b[0m\u001b[0m\n",
      "\u001b[0;31mNameError\u001b[0m: name 'StudentTup' is not defined"
     ]
    }
   ],
   "source": [
    "st = StudentTup('jjv222',first='joe')\n",
    "st.netid\n",
    "st.first\n",
    "st[0]"
   ]
  },
  {
   "cell_type": "code",
   "execution_count": 40,
   "id": "14fb3a91-f877-4029-b602-94845419ce57",
   "metadata": {},
   "outputs": [],
   "source": [
    "from dataclasses import dataclass\n"
   ]
  },
  {
   "cell_type": "code",
   "execution_count": 41,
   "id": "54f3d5d0-9412-4712-8df5-bb1e95eecb61",
   "metadata": {},
   "outputs": [
    {
     "ename": "TypeError",
     "evalue": "non-default argument 'midterm' follows default argument",
     "output_type": "error",
     "traceback": [
      "\u001b[0;31m---------------------------------------------------------------------------\u001b[0m",
      "\u001b[0;31mTypeError\u001b[0m                                 Traceback (most recent call last)",
      "\u001b[0;32m/var/folders/x5/lqdh39fn28d3vv684yzp6l5w0000gp/T/ipykernel_9820/509987043.py\u001b[0m in \u001b[0;36m<module>\u001b[0;34m\u001b[0m\n\u001b[1;32m      1\u001b[0m \u001b[0;34m@\u001b[0m\u001b[0mdataclass\u001b[0m\u001b[0;34m\u001b[0m\u001b[0;34m\u001b[0m\u001b[0m\n\u001b[0;32m----> 2\u001b[0;31m \u001b[0;32mclass\u001b[0m \u001b[0mStudent2\u001b[0m\u001b[0;34m:\u001b[0m\u001b[0;34m\u001b[0m\u001b[0;34m\u001b[0m\u001b[0m\n\u001b[0m\u001b[1;32m      3\u001b[0m     \u001b[0mnetid\u001b[0m\u001b[0;34m:\u001b[0m \u001b[0mstr\u001b[0m\u001b[0;34m\u001b[0m\u001b[0;34m\u001b[0m\u001b[0m\n\u001b[1;32m      4\u001b[0m     \u001b[0mfirst\u001b[0m\u001b[0;34m:\u001b[0m \u001b[0mstr\u001b[0m \u001b[0;34m=\u001b[0m \u001b[0;34m\"default name\"\u001b[0m\u001b[0;34m\u001b[0m\u001b[0;34m\u001b[0m\u001b[0m\n\u001b[1;32m      5\u001b[0m     \u001b[0mmidterm\u001b[0m\u001b[0;34m:\u001b[0m \u001b[0mint\u001b[0m\u001b[0;34m\u001b[0m\u001b[0;34m\u001b[0m\u001b[0m\n",
      "\u001b[0;32m~/opt/anaconda3/lib/python3.9/dataclasses.py\u001b[0m in \u001b[0;36mdataclass\u001b[0;34m(cls, init, repr, eq, order, unsafe_hash, frozen)\u001b[0m\n\u001b[1;32m   1019\u001b[0m \u001b[0;34m\u001b[0m\u001b[0m\n\u001b[1;32m   1020\u001b[0m     \u001b[0;31m# We're called as @dataclass without parens.\u001b[0m\u001b[0;34m\u001b[0m\u001b[0;34m\u001b[0m\u001b[0m\n\u001b[0;32m-> 1021\u001b[0;31m     \u001b[0;32mreturn\u001b[0m \u001b[0mwrap\u001b[0m\u001b[0;34m(\u001b[0m\u001b[0mcls\u001b[0m\u001b[0;34m)\u001b[0m\u001b[0;34m\u001b[0m\u001b[0;34m\u001b[0m\u001b[0m\n\u001b[0m\u001b[1;32m   1022\u001b[0m \u001b[0;34m\u001b[0m\u001b[0m\n\u001b[1;32m   1023\u001b[0m \u001b[0;34m\u001b[0m\u001b[0m\n",
      "\u001b[0;32m~/opt/anaconda3/lib/python3.9/dataclasses.py\u001b[0m in \u001b[0;36mwrap\u001b[0;34m(cls)\u001b[0m\n\u001b[1;32m   1011\u001b[0m \u001b[0;34m\u001b[0m\u001b[0m\n\u001b[1;32m   1012\u001b[0m     \u001b[0;32mdef\u001b[0m \u001b[0mwrap\u001b[0m\u001b[0;34m(\u001b[0m\u001b[0mcls\u001b[0m\u001b[0;34m)\u001b[0m\u001b[0;34m:\u001b[0m\u001b[0;34m\u001b[0m\u001b[0;34m\u001b[0m\u001b[0m\n\u001b[0;32m-> 1013\u001b[0;31m         \u001b[0;32mreturn\u001b[0m \u001b[0m_process_class\u001b[0m\u001b[0;34m(\u001b[0m\u001b[0mcls\u001b[0m\u001b[0;34m,\u001b[0m \u001b[0minit\u001b[0m\u001b[0;34m,\u001b[0m \u001b[0mrepr\u001b[0m\u001b[0;34m,\u001b[0m \u001b[0meq\u001b[0m\u001b[0;34m,\u001b[0m \u001b[0morder\u001b[0m\u001b[0;34m,\u001b[0m \u001b[0munsafe_hash\u001b[0m\u001b[0;34m,\u001b[0m \u001b[0mfrozen\u001b[0m\u001b[0;34m)\u001b[0m\u001b[0;34m\u001b[0m\u001b[0;34m\u001b[0m\u001b[0m\n\u001b[0m\u001b[1;32m   1014\u001b[0m \u001b[0;34m\u001b[0m\u001b[0m\n\u001b[1;32m   1015\u001b[0m     \u001b[0;31m# See if we're being called as @dataclass or @dataclass().\u001b[0m\u001b[0;34m\u001b[0m\u001b[0;34m\u001b[0m\u001b[0m\n",
      "\u001b[0;32m~/opt/anaconda3/lib/python3.9/dataclasses.py\u001b[0m in \u001b[0;36m_process_class\u001b[0;34m(cls, init, repr, eq, order, unsafe_hash, frozen)\u001b[0m\n\u001b[1;32m    925\u001b[0m                 if f._field_type in (_FIELD, _FIELD_INITVAR)]\n\u001b[1;32m    926\u001b[0m         _set_new_attribute(cls, '__init__',\n\u001b[0;32m--> 927\u001b[0;31m                            _init_fn(flds,\n\u001b[0m\u001b[1;32m    928\u001b[0m                                     \u001b[0mfrozen\u001b[0m\u001b[0;34m,\u001b[0m\u001b[0;34m\u001b[0m\u001b[0;34m\u001b[0m\u001b[0m\n\u001b[1;32m    929\u001b[0m                                     \u001b[0mhas_post_init\u001b[0m\u001b[0;34m,\u001b[0m\u001b[0;34m\u001b[0m\u001b[0;34m\u001b[0m\u001b[0m\n",
      "\u001b[0;32m~/opt/anaconda3/lib/python3.9/dataclasses.py\u001b[0m in \u001b[0;36m_init_fn\u001b[0;34m(fields, frozen, has_post_init, self_name, globals)\u001b[0m\n\u001b[1;32m    502\u001b[0m                 \u001b[0mseen_default\u001b[0m \u001b[0;34m=\u001b[0m \u001b[0;32mTrue\u001b[0m\u001b[0;34m\u001b[0m\u001b[0;34m\u001b[0m\u001b[0m\n\u001b[1;32m    503\u001b[0m             \u001b[0;32melif\u001b[0m \u001b[0mseen_default\u001b[0m\u001b[0;34m:\u001b[0m\u001b[0;34m\u001b[0m\u001b[0;34m\u001b[0m\u001b[0m\n\u001b[0;32m--> 504\u001b[0;31m                 raise TypeError(f'non-default argument {f.name!r} '\n\u001b[0m\u001b[1;32m    505\u001b[0m                                 'follows default argument')\n\u001b[1;32m    506\u001b[0m \u001b[0;34m\u001b[0m\u001b[0m\n",
      "\u001b[0;31mTypeError\u001b[0m: non-default argument 'midterm' follows default argument"
     ]
    }
   ],
   "source": [
    "@dataclass\n",
    "class Student2:\n",
    "    netid: str\n",
    "    first: str = \"default name\"\n",
    "    midterm: int\n"
   ]
  },
  {
   "cell_type": "code",
   "execution_count": 36,
   "id": "cb338f57-e030-4ca1-bca1-c39395825088",
   "metadata": {},
   "outputs": [
    {
     "data": {
      "text/plain": [
       "<__main__.Student at 0x7fb588232c70>"
      ]
     },
     "execution_count": 36,
     "metadata": {},
     "output_type": "execute_result"
    }
   ],
   "source": [
    "s = Student2('abc123', 'alice', 100)"
   ]
  },
  {
   "cell_type": "code",
   "execution_count": 42,
   "id": "dcdcc09f-b392-402e-8fe1-308a25425b77",
   "metadata": {},
   "outputs": [
    {
     "ename": "NameError",
     "evalue": "name 'Student2' is not defined",
     "output_type": "error",
     "traceback": [
      "\u001b[0;31m---------------------------------------------------------------------------\u001b[0m",
      "\u001b[0;31mNameError\u001b[0m                                 Traceback (most recent call last)",
      "\u001b[0;32m/var/folders/x5/lqdh39fn28d3vv684yzp6l5w0000gp/T/ipykernel_9820/4157690285.py\u001b[0m in \u001b[0;36m<module>\u001b[0;34m\u001b[0m\n\u001b[0;32m----> 1\u001b[0;31m \u001b[0ms2\u001b[0m \u001b[0;34m=\u001b[0m \u001b[0mStudent2\u001b[0m\u001b[0;34m(\u001b[0m\u001b[0mnetid\u001b[0m\u001b[0;34m=\u001b[0m\u001b[0;34m'anc124'\u001b[0m\u001b[0;34m,\u001b[0m \u001b[0mmidterm\u001b[0m \u001b[0;34m=\u001b[0m \u001b[0;36m100\u001b[0m\u001b[0;34m)\u001b[0m\u001b[0;34m\u001b[0m\u001b[0;34m\u001b[0m\u001b[0m\n\u001b[0m",
      "\u001b[0;31mNameError\u001b[0m: name 'Student2' is not defined"
     ]
    }
   ],
   "source": [
    "s2 = Student2(netid='anc124', midterm = 100)"
   ]
  },
  {
   "cell_type": "code",
   "execution_count": 61,
   "id": "955d01c5-8042-4d3d-9102-72f27ea2dac0",
   "metadata": {},
   "outputs": [],
   "source": [
    "class Fraction:\n",
    "    def __init__(self, num, den):\n",
    "        self.num = num\n",
    "        self.den = den\n",
    "    \n",
    "    def __str__(self):\n",
    "        return f'{self.num}/{self.den}'\n",
    "    \n",
    "    def __repr__(self):\n",
    "        return f'num={self.num}, den={self.den}'\n",
    "    \n",
    "    def __mul__(self, other):\n",
    "        return Fraction(self.num * other.num, self.den * other.den)\n",
    "    \n",
    "    def __getitem__(self, k):\n",
    "        if k ==0:\n",
    "            return self.num\n",
    "        elif k ==1:\n",
    "            return self.den\n",
    "        else:\n",
    "            raise IndexError()"
   ]
  },
  {
   "cell_type": "code",
   "execution_count": 62,
   "id": "abd30ce1-27f3-434c-a5b5-86d5bff9834d",
   "metadata": {},
   "outputs": [
    {
     "name": "stdout",
     "output_type": "stream",
     "text": [
      "1/2\n"
     ]
    }
   ],
   "source": [
    "f2 = Fraction(1,2)\n",
    "print(f)"
   ]
  },
  {
   "cell_type": "code",
   "execution_count": 63,
   "id": "690c74fb-232d-4354-aea9-e8565ad443a4",
   "metadata": {},
   "outputs": [
    {
     "data": {
      "text/plain": [
       "num=1, den=2"
      ]
     },
     "execution_count": 63,
     "metadata": {},
     "output_type": "execute_result"
    }
   ],
   "source": [
    "f2"
   ]
  },
  {
   "cell_type": "code",
   "execution_count": 64,
   "id": "923f4b08-ad1f-40f8-85b5-aeecf46161ad",
   "metadata": {},
   "outputs": [
    {
     "data": {
      "text/plain": [
       "num=1, den=4"
      ]
     },
     "execution_count": 64,
     "metadata": {},
     "output_type": "execute_result"
    }
   ],
   "source": [
    "f2 * f2"
   ]
  },
  {
   "cell_type": "code",
   "execution_count": 66,
   "id": "f0712c66-85b8-4f46-93a0-cdc8e405c246",
   "metadata": {},
   "outputs": [],
   "source": [
    "class Foo:\n",
    "    def __getitem__(self,k):\n",
    "        return k"
   ]
  },
  {
   "cell_type": "code",
   "execution_count": 68,
   "id": "f07928f6-cd60-4033-92f6-815bac082894",
   "metadata": {},
   "outputs": [
    {
     "data": {
      "text/plain": [
       "'whateve'"
      ]
     },
     "execution_count": 68,
     "metadata": {},
     "output_type": "execute_result"
    }
   ],
   "source": [
    "f = Foo()\n",
    "f[100]\n",
    "f['whateve']"
   ]
  },
  {
   "cell_type": "code",
   "execution_count": 69,
   "id": "4bc0c974-3838-436b-ba9c-a02fde5bbb4e",
   "metadata": {},
   "outputs": [
    {
     "data": {
      "text/plain": [
       "'yacht'"
      ]
     },
     "execution_count": 69,
     "metadata": {},
     "output_type": "execute_result"
    }
   ],
   "source": [
    "#built in functions iter and next\n",
    "# some object that impelments the __iter__(method)\n",
    "# __iter__ should return an iterator\n",
    "#(an iterator is an object that implements __next__ method\n",
    "#iter(obj) ... this causes obj.__iter__ to be called\n",
    "#next(obj) ... this causes obj.__next__ to be called\n",
    "artists = ['yacht','peep','uzi', 'baby', 'joji','drake']\n",
    "it = iter(artists)\n",
    "next(it)"
   ]
  },
  {
   "cell_type": "code",
   "execution_count": 70,
   "id": "7b6e741b-d709-48dc-a627-82ace19f6b82",
   "metadata": {},
   "outputs": [
    {
     "data": {
      "text/plain": [
       "'peep'"
      ]
     },
     "execution_count": 70,
     "metadata": {},
     "output_type": "execute_result"
    }
   ],
   "source": [
    "next(it)"
   ]
  },
  {
   "cell_type": "code",
   "execution_count": 71,
   "id": "62d5816b-a0d4-4268-9073-f991fb5bc0db",
   "metadata": {},
   "outputs": [],
   "source": [
    "class CountDown:\n",
    "    def __init__(self, start):\n",
    "        self.cur = start\n",
    "    \n",
    "    def __iter__(self):\n",
    "        return self\n",
    "        #an object that implements next\n",
    "    def __next__(self):\n",
    "        ret = self.cur\n",
    "        if self.cur >0:\n",
    "            self.cur-=1\n",
    "        else:\n",
    "            raise StopIteration()\n",
    "        return ret"
   ]
  },
  {
   "cell_type": "code",
   "execution_count": 72,
   "id": "02ad1909-b48a-496b-b5cd-9e1da6f9aba4",
   "metadata": {},
   "outputs": [
    {
     "data": {
      "text/plain": [
       "['yacht', 'peep', 'uzi', 'baby', 'joji', 'drake']"
      ]
     },
     "execution_count": 72,
     "metadata": {},
     "output_type": "execute_result"
    }
   ],
   "source": [
    "#copying and creating lists\n",
    "#start with something to drive iteration like for loop\n",
    "#eventually give back a new list\n",
    "[a for a in artists]"
   ]
  },
  {
   "cell_type": "code",
   "execution_count": 73,
   "id": "9bec5d0d-33d2-4637-b3c7-8b41ae057867",
   "metadata": {},
   "outputs": [
    {
     "data": {
      "text/plain": [
       "['yacht', 'peep', 'baby', 'joji', 'drake']"
      ]
     },
     "execution_count": 73,
     "metadata": {},
     "output_type": "execute_result"
    }
   ],
   "source": [
    "[a for a in artists if 'uzi' not in a]"
   ]
  },
  {
   "cell_type": "code",
   "execution_count": 74,
   "id": "a04a052f-335e-4b9b-a9b4-93bc9de562bc",
   "metadata": {},
   "outputs": [
    {
     "data": {
      "text/plain": [
       "['YACHT!!!', 'PEEP!!!', 'UZI!!!', 'BABY!!!', 'JOJI!!!', 'DRAKE!!!']"
      ]
     },
     "execution_count": 74,
     "metadata": {},
     "output_type": "execute_result"
    }
   ],
   "source": [
    "[a.upper() + '!!!' for a in artists]"
   ]
  },
  {
   "cell_type": "code",
   "execution_count": 75,
   "id": "683e3ce4-ed39-4e3c-aba1-19f02f9dcbe9",
   "metadata": {},
   "outputs": [
    {
     "ename": "IndentationError",
     "evalue": "expected an indented block (3313920499.py, line 5)",
     "output_type": "error",
     "traceback": [
      "\u001b[0;36m  File \u001b[0;32m\"/var/folders/x5/lqdh39fn28d3vv684yzp6l5w0000gp/T/ipykernel_9820/3313920499.py\"\u001b[0;36m, line \u001b[0;32m5\u001b[0m\n\u001b[0;31m    \u001b[0m\n\u001b[0m    ^\u001b[0m\n\u001b[0;31mIndentationError\u001b[0m\u001b[0;31m:\u001b[0m expected an indented block\n"
     ]
    }
   ],
   "source": [
    "nums = [2,3,5,7,11,13,17,19,23,29]\n",
    "new_list = []\n",
    "for n in nums:\n",
    "    if n%2 == 0:\n",
    "        "
   ]
  },
  {
   "cell_type": "code",
   "execution_count": 77,
   "id": "a254ad8b-5677-4aea-aed0-599d140ce07e",
   "metadata": {},
   "outputs": [
    {
     "data": {
      "text/plain": [
       "['bb', 'nn', 'nn']"
      ]
     },
     "execution_count": 77,
     "metadata": {},
     "output_type": "execute_result"
    }
   ],
   "source": [
    "[letter * 2 for letter in 'banana' if letter not in 'aeiou']"
   ]
  },
  {
   "cell_type": "code",
   "execution_count": 78,
   "id": "372f4393-2b29-4a6e-bb2c-0d19b18900b3",
   "metadata": {},
   "outputs": [
    {
     "data": {
      "text/plain": [
       "{'yacht': 0, 'peep': 1, 'uzi': 2, 'baby': 3, 'joji': 4, 'drake': 5}"
      ]
     },
     "execution_count": 78,
     "metadata": {},
     "output_type": "execute_result"
    }
   ],
   "source": [
    "{artist: i for i, artist in enumerate(artists)}"
   ]
  },
  {
   "cell_type": "code",
   "execution_count": null,
   "id": "2833628c-8ead-4786-a803-8b6f9078dc0c",
   "metadata": {},
   "outputs": [],
   "source": []
  }
 ],
 "metadata": {
  "kernelspec": {
   "display_name": "Python 3 (ipykernel)",
   "language": "python",
   "name": "python3"
  },
  "language_info": {
   "codemirror_mode": {
    "name": "ipython",
    "version": 3
   },
   "file_extension": ".py",
   "mimetype": "text/x-python",
   "name": "python",
   "nbconvert_exporter": "python",
   "pygments_lexer": "ipython3",
   "version": "3.9.13"
  }
 },
 "nbformat": 4,
 "nbformat_minor": 5
}
