{
 "cells": [
  {
   "cell_type": "code",
   "execution_count": 1,
   "id": "17c53b1c-88b4-4e64-8ade-c73cfa9ebb19",
   "metadata": {},
   "outputs": [],
   "source": [
    "def make_adder(base_number):\n",
    "    #base number will be used by inner function\n",
    "    def new_function(n):\n",
    "        return base_number + n\n",
    "    \n",
    "    return new_function\n"
   ]
  },
  {
   "cell_type": "code",
   "execution_count": 2,
   "id": "da0fdbf1-4954-4662-9c81-336c1cf0bb75",
   "metadata": {},
   "outputs": [],
   "source": [
    "f = make_adder(10)"
   ]
  },
  {
   "cell_type": "code",
   "execution_count": 3,
   "id": "c6d73c3d-5d4a-4d6e-9d7a-40c0cbfd9675",
   "metadata": {},
   "outputs": [
    {
     "data": {
      "text/plain": [
       "function"
      ]
     },
     "execution_count": 3,
     "metadata": {},
     "output_type": "execute_result"
    }
   ],
   "source": [
    "type(f)"
   ]
  },
  {
   "cell_type": "code",
   "execution_count": 9,
   "id": "91244010-9645-4b88-88b7-53cb59d28cdb",
   "metadata": {},
   "outputs": [],
   "source": [
    "def fact(n):\n",
    "    result = 1\n",
    "    while(n>1):\n",
    "        result *= n\n",
    "        n -= 1\n",
    "    return result"
   ]
  },
  {
   "cell_type": "code",
   "execution_count": 10,
   "id": "a84b41a3-bec0-4390-8885-8c5f968e4072",
   "metadata": {},
   "outputs": [],
   "source": [
    "#some functions takes old function, return new fversion of it with added functionality\n",
    "#in python you can apply a decorator without a function call using @decorator\n"
   ]
  },
  {
   "cell_type": "code",
   "execution_count": 13,
   "id": "84030e44-2e60-4ff3-8e01-eae226727707",
   "metadata": {},
   "outputs": [],
   "source": [
    "def cachify(old_fn):\n",
    "    cache = {}\n",
    "    def new_fn(n):\n",
    "        k = str(n)\n",
    "        print(\"in new_fn\", cache)\n",
    "        if k in cache:\n",
    "            print('cache hit', cache)\n",
    "            return cache[k]\n",
    "        else:\n",
    "            print('cache miss ...adding new value')\n",
    "            ret = old_fn(n)\n",
    "            cache[k] = ret\n",
    "            return ret\n",
    "    return new_fn"
   ]
  },
  {
   "cell_type": "code",
   "execution_count": 14,
   "id": "5bdd7e80-f197-41e4-be11-aace80b7ef90",
   "metadata": {},
   "outputs": [
    {
     "name": "stdout",
     "output_type": "stream",
     "text": [
      "in new_fn {}\n",
      "cache miss ...adding new value\n",
      "in new_fn {'3': 6}\n",
      "cache hit {'3': 6}\n"
     ]
    },
    {
     "data": {
      "text/plain": [
       "6"
      ]
     },
     "execution_count": 14,
     "metadata": {},
     "output_type": "execute_result"
    }
   ],
   "source": [
    "cached_fact = cachify(fact)\n",
    "cached_fact(3)\n",
    "cached_fact(3)"
   ]
  },
  {
   "cell_type": "code",
   "execution_count": 15,
   "id": "82617bfc-f4fb-4702-9261-ddf4260b8287",
   "metadata": {},
   "outputs": [],
   "source": [
    "import json\n",
    "def cachify2(old_fn):\n",
    "    cache = {}\n",
    "    def new_fn(*args):\n",
    "        k = json.dumps(args)\n",
    "        print(\"in new_fn\", cache)\n",
    "        if k in cache:\n",
    "            print('cache hit', cache)\n",
    "            return cache[k]\n",
    "        else:\n",
    "            print('cache miss ...adding new value')\n",
    "            ret = old_fn(n)\n",
    "            cache[k] = ret\n",
    "            return ret\n",
    "    return new_fn"
   ]
  },
  {
   "cell_type": "code",
   "execution_count": 18,
   "id": "5e73572d-cec9-4afc-b1c9-629eb68ed25c",
   "metadata": {},
   "outputs": [],
   "source": [
    "@cachify\n",
    "def fact2(n):\n",
    "    product = 1\n",
    "    for i in range(n,0,-1):\n",
    "        product *= i\n",
    "    return product"
   ]
  },
  {
   "cell_type": "code",
   "execution_count": 19,
   "id": "245d84e4-126d-41c7-8220-678b10197630",
   "metadata": {},
   "outputs": [
    {
     "name": "stdout",
     "output_type": "stream",
     "text": [
      "in new_fn {}\n",
      "cache miss ...adding new value\n",
      "in new_fn {'3': 6}\n",
      "cache hit {'3': 6}\n"
     ]
    },
    {
     "data": {
      "text/plain": [
       "6"
      ]
     },
     "execution_count": 19,
     "metadata": {},
     "output_type": "execute_result"
    }
   ],
   "source": [
    "fact2(3)\n",
    "fact2(3)"
   ]
  },
  {
   "cell_type": "code",
   "execution_count": null,
   "id": "8042536b-0bc8-40f2-9d0f-fba38d8d3068",
   "metadata": {},
   "outputs": [],
   "source": [
    "\"\"\"\n",
    "letters = LetterRange('A', 'C')\n",
    "forletter in letters:\n",
    "    print(letter)\n",
    "    \n",
    "Generator function\n",
    "    function that can be pushed\n",
    "    \n",
    "sometimes generator version is better than \n",
    "class based since class based \n",
    "requires a bunch of functionsto be defined\n",
    "\"\"\""
   ]
  },
  {
   "cell_type": "code",
   "execution_count": null,
   "id": "deae7361-8eab-43ce-a371-1e3faed8136e",
   "metadata": {},
   "outputs": [],
   "source": [
    "class LetterRange:\n",
    "    def __init__(self, start, end):\n",
    "        self.cur = ord(start)\n",
    "        \n",
    "    "
   ]
  },
  {
   "cell_type": "code",
   "execution_count": 22,
   "id": "32818057-8eb4-458a-bcd1-8d9e6be4900d",
   "metadata": {},
   "outputs": [
    {
     "name": "stdout",
     "output_type": "stream",
     "text": [
      "A\n",
      "B\n",
      "C\n"
     ]
    }
   ],
   "source": [
    "#generator function example?\n",
    "def letter_range(start,end):\n",
    "    for i in range(ord(start), ord(end)+1):\n",
    "        yield chr(i)\n",
    "    return 1\n",
    "\n",
    "for letter in letter_range('A','C'):\n",
    "    print(letter)"
   ]
  },
  {
   "cell_type": "code",
   "execution_count": 23,
   "id": "0beaf701-9a1c-49dc-82b3-d04452efea0f",
   "metadata": {},
   "outputs": [
    {
     "name": "stdout",
     "output_type": "stream",
     "text": [
      "1\n",
      "2\n"
     ]
    }
   ],
   "source": [
    "def gen():\n",
    "    yield 1\n",
    "    yield 2\n",
    "    return 3\n",
    "    yield 4\n",
    "\n",
    "for ele in gen():\n",
    "    print(ele)"
   ]
  },
  {
   "cell_type": "code",
   "execution_count": null,
   "id": "d970cb76-bc71-41a1-9b7d-211da46fa60b",
   "metadata": {},
   "outputs": [],
   "source": [
    "parsed_lines = (line.split(',') fr line in open('./stats/starbucks_drinkMenu_expanded.csv','r')\n",
    "                valid_data = (line for line in parsed_lines if line[3]"
   ]
  },
  {
   "cell_type": "code",
   "execution_count": 2,
   "id": "c09138bb-9a8c-4f7f-825e-3e4497214ee1",
   "metadata": {},
   "outputs": [
    {
     "name": "stdout",
     "output_type": "stream",
     "text": [
      "b'hello'\n",
      "hello\n"
     ]
    }
   ],
   "source": [
    "sss = \"hello\"\n",
    "sss2 = \"000010100\"\n",
    "ssse = sss.encode('utf-8','strict')\n",
    "print(ssse)\n",
    "sssd = ssse.decode('utf-8','strict')\n",
    "print(sssd)\n",
    "#sss2d = sss2.decode('utf-8','strict')\n",
    "#print(sss2d)"
   ]
  },
  {
   "cell_type": "code",
   "execution_count": 3,
   "id": "3a648671-c78d-4fb4-8a45-d0fc173bd26e",
   "metadata": {},
   "outputs": [
    {
     "data": {
      "text/plain": [
       "b'hello'"
      ]
     },
     "execution_count": 3,
     "metadata": {},
     "output_type": "execute_result"
    }
   ],
   "source": [
    "ssse"
   ]
  },
  {
   "cell_type": "code",
   "execution_count": 24,
   "id": "9ddd6d9c-f1ec-4487-b229-52e3936b4876",
   "metadata": {},
   "outputs": [
    {
     "name": "stdout",
     "output_type": "stream",
     "text": [
      "1110101010101010101010101010\n"
     ]
    }
   ],
   "source": [
    "s = '1110101010101010101010101010'\n",
    "a = bytes(s, 'utf-8')\n",
    "print(a.decode('UTF-8','strict'))"
   ]
  },
  {
   "cell_type": "code",
   "execution_count": 10,
   "id": "74c3df93-243c-4950-89e6-2db9d0fd53cb",
   "metadata": {},
   "outputs": [
    {
     "name": "stdout",
     "output_type": "stream",
     "text": [
      "d986d982d8a7d8a8\n"
     ]
    },
    {
     "ename": "AttributeError",
     "evalue": "'NoneType' object has no attribute 'decode'",
     "output_type": "error",
     "traceback": [
      "\u001b[0;31m---------------------------------------------------------------------------\u001b[0m",
      "\u001b[0;31mAttributeError\u001b[0m                            Traceback (most recent call last)",
      "\u001b[0;32m/var/folders/x5/lqdh39fn28d3vv684yzp6l5w0000gp/T/ipykernel_27694/3766241418.py\u001b[0m in \u001b[0;36m<module>\u001b[0;34m\u001b[0m\n\u001b[1;32m      1\u001b[0m \u001b[0mtest_string\u001b[0m \u001b[0;34m=\u001b[0m \u001b[0;34m'1101100110000110110110011000001011011000101001111101100010101000'\u001b[0m\u001b[0;34m\u001b[0m\u001b[0;34m\u001b[0m\u001b[0m\n\u001b[0;32m----> 2\u001b[0;31m \u001b[0mprint\u001b[0m \u001b[0;34m(\u001b[0m\u001b[0;34m'%x'\u001b[0m \u001b[0;34m%\u001b[0m \u001b[0mint\u001b[0m\u001b[0;34m(\u001b[0m\u001b[0mtest_string\u001b[0m\u001b[0;34m,\u001b[0m \u001b[0;36m2\u001b[0m\u001b[0;34m)\u001b[0m\u001b[0;34m)\u001b[0m\u001b[0;34m.\u001b[0m\u001b[0mdecode\u001b[0m\u001b[0;34m(\u001b[0m\u001b[0;34m'hex'\u001b[0m\u001b[0;34m)\u001b[0m\u001b[0;34m.\u001b[0m\u001b[0mdecode\u001b[0m\u001b[0;34m(\u001b[0m\u001b[0;34m'utf-8'\u001b[0m\u001b[0;34m)\u001b[0m\u001b[0;34m\u001b[0m\u001b[0;34m\u001b[0m\u001b[0m\n\u001b[0m",
      "\u001b[0;31mAttributeError\u001b[0m: 'NoneType' object has no attribute 'decode'"
     ]
    }
   ],
   "source": [
    "test_string = '1101100110000110110110011000001011011000101001111101100010101000'\n",
    "print ('%x' % int(test_string, 2)).decode('hex').decode('utf-8')"
   ]
  },
  {
   "cell_type": "code",
   "execution_count": 14,
   "id": "54c85833-6699-416c-9a98-c9c81378d542",
   "metadata": {},
   "outputs": [
    {
     "name": "stdout",
     "output_type": "stream",
     "text": [
      "test\n"
     ]
    }
   ],
   "source": [
    "def bin2text(s): return \"\".join([chr(int(s[i:i+8],2)) for i in range(0,len(s),8)])\n",
    "\n",
    "\n",
    "print(bin2text(\"01110100011001010111001101110100\"))\n"
   ]
  },
  {
   "cell_type": "code",
   "execution_count": 17,
   "id": "46ab2d26-0751-4bae-8abf-dc25086318c9",
   "metadata": {},
   "outputs": [
    {
     "name": "stdout",
     "output_type": "stream",
     "text": [
      "ÙÙØ§Ø¨\n"
     ]
    }
   ],
   "source": [
    "s = '1101100110000110110110011000001011011000101001111101100010101000'\n",
    "u = \"\".join([chr(int(x,2)) for x in [s[i:i+8] \n",
    "                           for i in range(0,len(s), 8)\n",
    "                           ]\n",
    "            ])\n",
    "#d = u.decode('utf-8')\n",
    "print(u)"
   ]
  },
  {
   "cell_type": "code",
   "execution_count": 26,
   "id": "34f31fcb-78d9-4d0b-84ca-623c26633d7a",
   "metadata": {},
   "outputs": [
    {
     "ename": "AttributeError",
     "evalue": "'bytes' object has no attribute 'decoded'",
     "output_type": "error",
     "traceback": [
      "\u001b[0;31m---------------------------------------------------------------------------\u001b[0m",
      "\u001b[0;31mAttributeError\u001b[0m                            Traceback (most recent call last)",
      "\u001b[0;32m/var/folders/x5/lqdh39fn28d3vv684yzp6l5w0000gp/T/ipykernel_27694/711442225.py\u001b[0m in \u001b[0;36m<module>\u001b[0;34m\u001b[0m\n\u001b[1;32m      1\u001b[0m \u001b[0mh\u001b[0m\u001b[0;34m=\u001b[0m \u001b[0;34mb'\\x00H\\x00e\\x00l\\x00l\\x00o\\x00!\\x00 \\x00W\\x00e\\x00l\\x00c\\x00o\\x00m\\x00e\\x00 \\x00t\\x00o\\x00 \\x00T\\x00u\\x00t\\x00o\\x00r\\x00i\\x00a\\x00l\\x00s\\x00p\\x00o\\x00i\\x00n\\x00t\\x00.'\u001b[0m\u001b[0;34m\u001b[0m\u001b[0;34m\u001b[0m\u001b[0m\n\u001b[0;32m----> 2\u001b[0;31m \u001b[0mprint\u001b[0m\u001b[0;34m(\u001b[0m\u001b[0mh\u001b[0m\u001b[0;34m.\u001b[0m\u001b[0mdecoded\u001b[0m\u001b[0;34m(\u001b[0m\u001b[0;34m'utf-8'\u001b[0m\u001b[0;34m)\u001b[0m\u001b[0;34m)\u001b[0m\u001b[0;34m\u001b[0m\u001b[0;34m\u001b[0m\u001b[0m\n\u001b[0m",
      "\u001b[0;31mAttributeError\u001b[0m: 'bytes' object has no attribute 'decoded'"
     ]
    }
   ],
   "source": [
    "h= b'\\x00H\\x00e\\x00l\\x00l\\x00o\\x00!\\x00 \\x00W\\x00e\\x00l\\x00c\\x00o\\x00m\\x00e\\x00 \\x00t\\x00o\\x00 \\x00T\\x00u\\x00t\\x00o\\x00r\\x00i\\x00a\\x00l\\x00s\\x00p\\x00o\\x00i\\x00n\\x00t\\x00.'\n",
    "print(h.decoded('utf-8'))"
   ]
  },
  {
   "cell_type": "code",
   "execution_count": null,
   "id": "8f4f8cde-e903-4816-a4b4-85653849d202",
   "metadata": {},
   "outputs": [],
   "source": []
  }
 ],
 "metadata": {
  "kernelspec": {
   "display_name": "Python 3 (ipykernel)",
   "language": "python",
   "name": "python3"
  },
  "language_info": {
   "codemirror_mode": {
    "name": "ipython",
    "version": 3
   },
   "file_extension": ".py",
   "mimetype": "text/x-python",
   "name": "python",
   "nbconvert_exporter": "python",
   "pygments_lexer": "ipython3",
   "version": "3.9.13"
  }
 },
 "nbformat": 4,
 "nbformat_minor": 5
}
